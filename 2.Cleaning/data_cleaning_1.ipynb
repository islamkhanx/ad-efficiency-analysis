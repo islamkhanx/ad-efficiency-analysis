{
 "cells": [
  {
   "cell_type": "code",
   "execution_count": 1,
   "metadata": {},
   "outputs": [],
   "source": [
    "import pandas as pd\n",
    "import numpy as np\n",
    "import re\n",
    "import matplotlib.pyplot as plt\n",
    "import seaborn as sns"
   ]
  },
  {
   "cell_type": "code",
   "execution_count": 2,
   "metadata": {},
   "outputs": [
    {
     "data": {
      "text/html": [
       "<div>\n",
       "<style scoped>\n",
       "    .dataframe tbody tr th:only-of-type {\n",
       "        vertical-align: middle;\n",
       "    }\n",
       "\n",
       "    .dataframe tbody tr th {\n",
       "        vertical-align: top;\n",
       "    }\n",
       "\n",
       "    .dataframe thead th {\n",
       "        text-align: right;\n",
       "    }\n",
       "</style>\n",
       "<table border=\"1\" class=\"dataframe\">\n",
       "  <thead>\n",
       "    <tr style=\"text-align: right;\">\n",
       "      <th></th>\n",
       "      <th>название</th>\n",
       "      <th>цена</th>\n",
       "      <th>Город</th>\n",
       "      <th>Тип дома</th>\n",
       "      <th>Год постройки</th>\n",
       "      <th>Этаж</th>\n",
       "      <th>Площадь, м²</th>\n",
       "      <th>Состояние</th>\n",
       "      <th>Состояние квартиры</th>\n",
       "      <th>Санузел</th>\n",
       "      <th>...</th>\n",
       "      <th>Кому подойдет квартира</th>\n",
       "      <th>просмотры</th>\n",
       "      <th>Цвет</th>\n",
       "      <th>url</th>\n",
       "      <th>Владелец</th>\n",
       "      <th>×15 просмотров на месяц</th>\n",
       "      <th>×5 просмотров на неделю</th>\n",
       "      <th>В горячих</th>\n",
       "      <th>ТОП объявление</th>\n",
       "      <th>Срочно, торг</th>\n",
       "    </tr>\n",
       "  </thead>\n",
       "  <tbody>\n",
       "    <tr>\n",
       "      <th>0</th>\n",
       "      <td>3-комнатная квартира, 69 м², 9/10 этаж помесяч...</td>\n",
       "      <td>235 000</td>\n",
       "      <td>Семей, Абайская обл.  показать на карте</td>\n",
       "      <td>кирпичный</td>\n",
       "      <td>1992.0</td>\n",
       "      <td>9 из 10</td>\n",
       "      <td>69 м², жилая — 58 м², Площадь кухни — 9 м²</td>\n",
       "      <td>хорошее</td>\n",
       "      <td>не новый, но аккуратный и чистый ремонт</td>\n",
       "      <td>разделен</td>\n",
       "      <td>...</td>\n",
       "      <td>можно с животными, можно с детьми</td>\n",
       "      <td>4358</td>\n",
       "      <td>red</td>\n",
       "      <td>https://krisha.kz/a/show/674852270</td>\n",
       "      <td>Хозяин недвижимости</td>\n",
       "      <td>1</td>\n",
       "      <td>0</td>\n",
       "      <td>0</td>\n",
       "      <td>1</td>\n",
       "      <td>0</td>\n",
       "    </tr>\n",
       "    <tr>\n",
       "      <th>1</th>\n",
       "      <td>4-комнатная квартира, 87 м², 6/9 этаж помесячн...</td>\n",
       "      <td>350 000</td>\n",
       "      <td>Семей, Абайская обл.  показать на карте</td>\n",
       "      <td>NaN</td>\n",
       "      <td>NaN</td>\n",
       "      <td>6 из 9</td>\n",
       "      <td>87 м², Площадь кухни — 8 м²</td>\n",
       "      <td>NaN</td>\n",
       "      <td>не новый, но аккуратный и чистый ремонт</td>\n",
       "      <td>разделен</td>\n",
       "      <td>...</td>\n",
       "      <td>семейной паре, некурящим, можно с детьми</td>\n",
       "      <td>3780</td>\n",
       "      <td>red</td>\n",
       "      <td>https://krisha.kz/a/show/688135881</td>\n",
       "      <td>Хозяин недвижимости</td>\n",
       "      <td>1</td>\n",
       "      <td>0</td>\n",
       "      <td>0</td>\n",
       "      <td>1</td>\n",
       "      <td>0</td>\n",
       "    </tr>\n",
       "    <tr>\n",
       "      <th>2</th>\n",
       "      <td>2-комнатная квартира, 58 м², 9/10 этаж помесяч...</td>\n",
       "      <td>170 000</td>\n",
       "      <td>Семей, Абайская обл.  показать на карте</td>\n",
       "      <td>NaN</td>\n",
       "      <td>NaN</td>\n",
       "      <td>9 из 10</td>\n",
       "      <td>58 м², жилая — 54 м², Площадь кухни — 8.48 м²</td>\n",
       "      <td>NaN</td>\n",
       "      <td>не новый, но аккуратный и чистый ремонт</td>\n",
       "      <td>совмещен</td>\n",
       "      <td>...</td>\n",
       "      <td>семейной паре, некурящим, одному человеку</td>\n",
       "      <td>272</td>\n",
       "      <td>green</td>\n",
       "      <td>https://krisha.kz/a/show/690979621</td>\n",
       "      <td>Хозяин недвижимости</td>\n",
       "      <td>0</td>\n",
       "      <td>1</td>\n",
       "      <td>1</td>\n",
       "      <td>1</td>\n",
       "      <td>0</td>\n",
       "    </tr>\n",
       "    <tr>\n",
       "      <th>3</th>\n",
       "      <td>3-комнатная квартира, 86 м², 1/5 этаж помесячн...</td>\n",
       "      <td>300 000</td>\n",
       "      <td>Семей, Абайская обл.  показать на карте</td>\n",
       "      <td>NaN</td>\n",
       "      <td>NaN</td>\n",
       "      <td>1 из 5</td>\n",
       "      <td>86 м²</td>\n",
       "      <td>NaN</td>\n",
       "      <td>не новый, но аккуратный и чистый ремонт</td>\n",
       "      <td>совмещен</td>\n",
       "      <td>...</td>\n",
       "      <td>семейной паре</td>\n",
       "      <td>1512</td>\n",
       "      <td>NaN</td>\n",
       "      <td>https://krisha.kz/a/show/678485288</td>\n",
       "      <td>Хозяин недвижимости</td>\n",
       "      <td>0</td>\n",
       "      <td>0</td>\n",
       "      <td>0</td>\n",
       "      <td>1</td>\n",
       "      <td>0</td>\n",
       "    </tr>\n",
       "    <tr>\n",
       "      <th>4</th>\n",
       "      <td>2-комнатная квартира, 44.4 м², 4 этаж помесячн...</td>\n",
       "      <td>130 000</td>\n",
       "      <td>Семей, Абайская обл.  показать на карте</td>\n",
       "      <td>NaN</td>\n",
       "      <td>NaN</td>\n",
       "      <td>4</td>\n",
       "      <td>44.4 м²</td>\n",
       "      <td>NaN</td>\n",
       "      <td>NaN</td>\n",
       "      <td>совмещен</td>\n",
       "      <td>...</td>\n",
       "      <td>семейной паре, некурящим, одному человеку, мож...</td>\n",
       "      <td>225</td>\n",
       "      <td>NaN</td>\n",
       "      <td>https://krisha.kz/a/show/691164553</td>\n",
       "      <td>Хозяин недвижимости</td>\n",
       "      <td>0</td>\n",
       "      <td>0</td>\n",
       "      <td>0</td>\n",
       "      <td>1</td>\n",
       "      <td>0</td>\n",
       "    </tr>\n",
       "  </tbody>\n",
       "</table>\n",
       "<p>5 rows × 33 columns</p>\n",
       "</div>"
      ],
      "text/plain": [
       "                                            название     цена  \\\n",
       "0  3-комнатная квартира, 69 м², 9/10 этаж помесяч...  235 000   \n",
       "1  4-комнатная квартира, 87 м², 6/9 этаж помесячн...  350 000   \n",
       "2  2-комнатная квартира, 58 м², 9/10 этаж помесяч...  170 000   \n",
       "3  3-комнатная квартира, 86 м², 1/5 этаж помесячн...  300 000   \n",
       "4  2-комнатная квартира, 44.4 м², 4 этаж помесячн...  130 000   \n",
       "\n",
       "                                       Город   Тип дома  Год постройки  \\\n",
       "0   Семей, Абайская обл.  показать на карте   кирпичный         1992.0   \n",
       "1   Семей, Абайская обл.  показать на карте         NaN            NaN   \n",
       "2   Семей, Абайская обл.  показать на карте         NaN            NaN   \n",
       "3   Семей, Абайская обл.  показать на карте         NaN            NaN   \n",
       "4   Семей, Абайская обл.  показать на карте         NaN            NaN   \n",
       "\n",
       "      Этаж                                    Площадь, м² Состояние  \\\n",
       "0  9 из 10     69 м², жилая — 58 м², Площадь кухни — 9 м²   хорошее   \n",
       "1   6 из 9                    87 м², Площадь кухни — 8 м²       NaN   \n",
       "2  9 из 10  58 м², жилая — 54 м², Площадь кухни — 8.48 м²       NaN   \n",
       "3   1 из 5                                          86 м²       NaN   \n",
       "4        4                                        44.4 м²       NaN   \n",
       "\n",
       "                        Состояние квартиры   Санузел  ...  \\\n",
       "0  не новый, но аккуратный и чистый ремонт  разделен  ...   \n",
       "1  не новый, но аккуратный и чистый ремонт  разделен  ...   \n",
       "2  не новый, но аккуратный и чистый ремонт  совмещен  ...   \n",
       "3  не новый, но аккуратный и чистый ремонт  совмещен  ...   \n",
       "4                                      NaN  совмещен  ...   \n",
       "\n",
       "                              Кому подойдет квартира просмотры   Цвет  \\\n",
       "0                  можно с животными, можно с детьми      4358    red   \n",
       "1           семейной паре, некурящим, можно с детьми      3780    red   \n",
       "2          семейной паре, некурящим, одному человеку       272  green   \n",
       "3                                      семейной паре      1512    NaN   \n",
       "4  семейной паре, некурящим, одному человеку, мож...       225    NaN   \n",
       "\n",
       "                                  url             Владелец  \\\n",
       "0  https://krisha.kz/a/show/674852270  Хозяин недвижимости   \n",
       "1  https://krisha.kz/a/show/688135881  Хозяин недвижимости   \n",
       "2  https://krisha.kz/a/show/690979621  Хозяин недвижимости   \n",
       "3  https://krisha.kz/a/show/678485288  Хозяин недвижимости   \n",
       "4  https://krisha.kz/a/show/691164553  Хозяин недвижимости   \n",
       "\n",
       "  ×15 просмотров на месяц ×5 просмотров на неделю В горячих ТОП объявление  \\\n",
       "0                       1                       0         0              1   \n",
       "1                       1                       0         0              1   \n",
       "2                       0                       1         1              1   \n",
       "3                       0                       0         0              1   \n",
       "4                       0                       0         0              1   \n",
       "\n",
       "  Срочно, торг  \n",
       "0            0  \n",
       "1            0  \n",
       "2            0  \n",
       "3            0  \n",
       "4            0  \n",
       "\n",
       "[5 rows x 33 columns]"
      ]
     },
     "execution_count": 2,
     "metadata": {},
     "output_type": "execute_result"
    }
   ],
   "source": [
    "df = pd.read_csv('../1.Data_collection/krisha.csv')\n",
    "# Уберем сразу те кватриы которые не имеют url\n",
    "df = df.dropna(subset=['url'])\n",
    "df = df.drop_duplicates(subset=['url'])\n",
    "\n",
    "df.head(5)"
   ]
  },
  {
   "cell_type": "markdown",
   "metadata": {},
   "source": [
    "Посмотрим и исправим типы наших столбцов"
   ]
  },
  {
   "cell_type": "code",
   "execution_count": 3,
   "metadata": {},
   "outputs": [
    {
     "name": "stdout",
     "output_type": "stream",
     "text": [
      "<class 'pandas.core.frame.DataFrame'>\n",
      "Int64Index: 25350 entries, 0 to 25349\n",
      "Data columns (total 33 columns):\n",
      " #   Column                   Non-Null Count  Dtype  \n",
      "---  ------                   --------------  -----  \n",
      " 0   название                 25350 non-null  object \n",
      " 1   цена                     25350 non-null  object \n",
      " 2   Город                    25350 non-null  object \n",
      " 3   Тип дома                 1966 non-null   object \n",
      " 4   Год постройки            2701 non-null   float64\n",
      " 5   Этаж                     24855 non-null  object \n",
      " 6   Площадь, м²              25350 non-null  object \n",
      " 7   Состояние                1985 non-null   object \n",
      " 8   Состояние квартиры       17691 non-null  object \n",
      " 9   Санузел                  20768 non-null  object \n",
      " 10  Балкон                   15810 non-null  object \n",
      " 11  Балкон остеклён          1507 non-null   object \n",
      " 12  Дверь                    2094 non-null   object \n",
      " 13  Парковка                 1357 non-null   object \n",
      " 14  Квартира меблирована     22478 non-null  object \n",
      " 15  Пол                      2027 non-null   object \n",
      " 16  Потолки                  1712 non-null   object \n",
      " 17  Бывшее общежитие         25261 non-null  object \n",
      " 18  Мебель                   20951 non-null  object \n",
      " 19  Удобства                 21268 non-null  object \n",
      " 20  Ванная комната           20696 non-null  object \n",
      " 21  Окна                     18742 non-null  object \n",
      " 22  Лоджия                   10443 non-null  object \n",
      " 23  Кому подойдет квартира   19514 non-null  object \n",
      " 24  просмотры                25027 non-null  object \n",
      " 25  Цвет                     1451 non-null   object \n",
      " 26  url                      25350 non-null  object \n",
      " 27  Владелец                 25350 non-null  object \n",
      " 28  ×15 просмотров на месяц  25350 non-null  int64  \n",
      " 29  ×5 просмотров на неделю  25350 non-null  int64  \n",
      " 30  В горячих                25350 non-null  int64  \n",
      " 31  ТОП объявление           25350 non-null  int64  \n",
      " 32  Срочно, торг             25350 non-null  int64  \n",
      "dtypes: float64(1), int64(5), object(27)\n",
      "memory usage: 6.6+ MB\n"
     ]
    }
   ],
   "source": [
    "df.info()"
   ]
  },
  {
   "cell_type": "markdown",
   "metadata": {},
   "source": [
    "Цена"
   ]
  },
  {
   "cell_type": "code",
   "execution_count": 4,
   "metadata": {},
   "outputs": [
    {
     "data": {
      "text/plain": [
       "0    235 000\n",
       "1    350 000\n",
       "2    170 000\n",
       "3    300 000\n",
       "4    130 000\n",
       "Name: цена, dtype: object"
      ]
     },
     "execution_count": 4,
     "metadata": {},
     "output_type": "execute_result"
    }
   ],
   "source": [
    "df['цена'].head()"
   ]
  },
  {
   "cell_type": "code",
   "execution_count": 5,
   "metadata": {},
   "outputs": [],
   "source": [
    "# В цене содержится пробел в виде '/xa0', уберем его\n",
    "df['цена'] = df['цена'].apply(lambda x: re.sub(r'[^\\d]+', '', x)).astype(int)"
   ]
  },
  {
   "cell_type": "code",
   "execution_count": 6,
   "metadata": {},
   "outputs": [
    {
     "data": {
      "text/plain": [
       "count    2.535000e+04\n",
       "mean     2.639889e+05\n",
       "std      2.556866e+05\n",
       "min      1.000000e+04\n",
       "25%      1.500000e+05\n",
       "50%      2.000000e+05\n",
       "75%      3.000000e+05\n",
       "max      1.400000e+07\n",
       "Name: цена, dtype: float64"
      ]
     },
     "execution_count": 6,
     "metadata": {},
     "output_type": "execute_result"
    }
   ],
   "source": [
    "# Проверим\n",
    "df['цена'].describe()"
   ]
  },
  {
   "cell_type": "markdown",
   "metadata": {},
   "source": [
    "Город"
   ]
  },
  {
   "cell_type": "code",
   "execution_count": 7,
   "metadata": {},
   "outputs": [
    {
     "data": {
      "text/plain": [
       "0     Семей, Абайская обл.  показать на карте \n",
       "1     Семей, Абайская обл.  показать на карте \n",
       "2     Семей, Абайская обл.  показать на карте \n",
       "3     Семей, Абайская обл.  показать на карте \n",
       "4     Семей, Абайская обл.  показать на карте \n",
       "Name: Город, dtype: object"
      ]
     },
     "execution_count": 7,
     "metadata": {},
     "output_type": "execute_result"
    }
   ],
   "source": [
    "df['Город'].head()"
   ]
  },
  {
   "cell_type": "code",
   "execution_count": 8,
   "metadata": {},
   "outputs": [],
   "source": [
    "# В цене содержится лишее 'показать на карте', уберем его\n",
    "df['Город'] = df['Город'].apply(lambda x: re.sub(r'\\s*показать на карте\\s*', '', x).strip())"
   ]
  },
  {
   "cell_type": "code",
   "execution_count": 9,
   "metadata": {},
   "outputs": [
    {
     "data": {
      "text/plain": [
       "Астана, Есильский р-н                      3405\n",
       "Алматы, Бостандыкский р-н                  2791\n",
       "Астана, Алматы р-н                         1690\n",
       "Алматы, Алмалинский р-н                    1583\n",
       "Алматы, Ауэзовский р-н                     1408\n",
       "                                           ... \n",
       "Новоишимское, Северо-Казахстанская обл.       1\n",
       "Саумалколь, Северо-Казахстанская обл.         1\n",
       "Шиели, Кызылординская обл.                    1\n",
       "Павлодарская обл.                             1\n",
       "Актау, мкр \"Самал\"                            1\n",
       "Name: Город, Length: 175, dtype: int64"
      ]
     },
     "execution_count": 9,
     "metadata": {},
     "output_type": "execute_result"
    }
   ],
   "source": [
    "# Проверим\n",
    "df['Город'].value_counts()"
   ]
  },
  {
   "cell_type": "markdown",
   "metadata": {},
   "source": [
    "Год постройки"
   ]
  },
  {
   "cell_type": "code",
   "execution_count": 10,
   "metadata": {},
   "outputs": [
    {
     "data": {
      "text/plain": [
       "count    2701.000000\n",
       "mean     2002.715661\n",
       "std        17.753994\n",
       "min      1933.000000\n",
       "25%      1989.000000\n",
       "50%      2010.000000\n",
       "75%      2018.000000\n",
       "max      2025.000000\n",
       "Name: Год постройки, dtype: float64"
      ]
     },
     "execution_count": 10,
     "metadata": {},
     "output_type": "execute_result"
    }
   ],
   "source": [
    "df['Год постройки'].describe()"
   ]
  },
  {
   "cell_type": "markdown",
   "metadata": {},
   "source": [
    "Этаж"
   ]
  },
  {
   "cell_type": "code",
   "execution_count": 11,
   "metadata": {},
   "outputs": [
    {
     "data": {
      "text/plain": [
       "0        9 из 10\n",
       "1         6 из 9\n",
       "2        9 из 10\n",
       "3         1 из 5\n",
       "4              4\n",
       "          ...   \n",
       "25345     3 из 6\n",
       "25346     3 из 9\n",
       "25347     2 из 3\n",
       "25348     3 из 5\n",
       "25349     3 из 5\n",
       "Name: Этаж, Length: 25350, dtype: object"
      ]
     },
     "execution_count": 11,
     "metadata": {},
     "output_type": "execute_result"
    }
   ],
   "source": [
    "df['Этаж']"
   ]
  },
  {
   "cell_type": "code",
   "execution_count": 12,
   "metadata": {},
   "outputs": [
    {
     "data": {
      "text/plain": [
       "1    23513\n",
       "0     1837\n",
       "Name: Этаж, dtype: int64"
      ]
     },
     "execution_count": 12,
     "metadata": {},
     "output_type": "execute_result"
    }
   ],
   "source": [
    "# посмотрим из скольких из них есть 'из'\n",
    "df['Этаж'].apply(lambda x: 1 if  'из' in str(x) else 0).value_counts()"
   ]
  },
  {
   "cell_type": "code",
   "execution_count": 13,
   "metadata": {},
   "outputs": [],
   "source": [
    "# сделаем две новые колоники \"Этаж_факт\" и \"Этаж из\"\n",
    "df['Этаж_факт'] = df['Этаж'].apply(lambda x:  re.search(r'\\b\\d+\\b', x).group() if 'из' in str(x) else x).astype('float')\n",
    "df['Этаж из'] = df['Этаж'].apply(lambda x:  re.findall(r'\\b\\d+\\b', x)[1] if 'из' in str(x) else float('nan')).astype('float')"
   ]
  },
  {
   "cell_type": "code",
   "execution_count": 14,
   "metadata": {},
   "outputs": [
    {
     "data": {
      "text/plain": [
       "count    24855.000000\n",
       "mean         5.477932\n",
       "std          3.970863\n",
       "min          1.000000\n",
       "25%          3.000000\n",
       "50%          4.000000\n",
       "75%          7.000000\n",
       "max         37.000000\n",
       "Name: Этаж_факт, dtype: float64"
      ]
     },
     "execution_count": 14,
     "metadata": {},
     "output_type": "execute_result"
    }
   ],
   "source": [
    "# проверим\n",
    "df['Этаж_факт'].describe()"
   ]
  },
  {
   "cell_type": "code",
   "execution_count": 15,
   "metadata": {},
   "outputs": [
    {
     "data": {
      "text/plain": [
       "count    23513.000000\n",
       "mean         9.238549\n",
       "std          5.724251\n",
       "min          1.000000\n",
       "25%          5.000000\n",
       "50%          9.000000\n",
       "75%         12.000000\n",
       "max        403.000000\n",
       "Name: Этаж из, dtype: float64"
      ]
     },
     "execution_count": 15,
     "metadata": {},
     "output_type": "execute_result"
    }
   ],
   "source": [
    "df['Этаж из'].describe()"
   ]
  },
  {
   "cell_type": "code",
   "execution_count": 16,
   "metadata": {},
   "outputs": [
    {
     "data": {
      "text/plain": [
       "False"
      ]
     },
     "execution_count": 16,
     "metadata": {},
     "output_type": "execute_result"
    }
   ],
   "source": [
    "# проверим нет и такого что этаж выше крышы )\n",
    "any(df['Этаж_факт'] > df['Этаж из'])"
   ]
  },
  {
   "cell_type": "code",
   "execution_count": 17,
   "metadata": {},
   "outputs": [],
   "source": [
    "# отлично, можем убать коноку Этаж\n",
    "df = df.drop(columns=['Этаж'])"
   ]
  },
  {
   "cell_type": "markdown",
   "metadata": {},
   "source": [
    "Площадь"
   ]
  },
  {
   "cell_type": "code",
   "execution_count": 18,
   "metadata": {},
   "outputs": [
    {
     "data": {
      "text/plain": [
       "0           69 м², жилая — 58 м², Площадь кухни — 9 м²\n",
       "1                          87 м², Площадь кухни — 8 м²\n",
       "2        58 м², жилая — 54 м², Площадь кухни — 8.48 м²\n",
       "3                                                86 м²\n",
       "4                                              44.4 м²\n",
       "                             ...                      \n",
       "25345                      35 м², Площадь кухни — 9 м²\n",
       "25346                   40 м², Площадь кухни — 11.3 м²\n",
       "25347                      34 м², Площадь кухни — 7 м²\n",
       "25348                                            95 м²\n",
       "25349                      46 м², Площадь кухни — 7 м²\n",
       "Name: Площадь, м², Length: 25350, dtype: object"
      ]
     },
     "execution_count": 18,
     "metadata": {},
     "output_type": "execute_result"
    }
   ],
   "source": [
    "df['Площадь, м²']"
   ]
  },
  {
   "cell_type": "code",
   "execution_count": 19,
   "metadata": {},
   "outputs": [
    {
     "data": {
      "text/plain": [
       "{' Площадь кухни ', ' жилая '}"
      ]
     },
     "execution_count": 19,
     "metadata": {},
     "output_type": "execute_result"
    }
   ],
   "source": [
    "# Как мы видим тут много типов площадей, посмотрим сколько именно помимо основной\n",
    "pattern = r'(?P<key>[\\w\\s]+)\\s*—\\s*(?P<value>\\d+(\\.\\d+)?) м²'\n",
    "set(list(df['Площадь, м²'].str.extractall(pattern)['key']))"
   ]
  },
  {
   "cell_type": "code",
   "execution_count": 20,
   "metadata": {},
   "outputs": [
    {
     "data": {
      "text/html": [
       "<div>\n",
       "<style scoped>\n",
       "    .dataframe tbody tr th:only-of-type {\n",
       "        vertical-align: middle;\n",
       "    }\n",
       "\n",
       "    .dataframe tbody tr th {\n",
       "        vertical-align: top;\n",
       "    }\n",
       "\n",
       "    .dataframe thead th {\n",
       "        text-align: right;\n",
       "    }\n",
       "</style>\n",
       "<table border=\"1\" class=\"dataframe\">\n",
       "  <thead>\n",
       "    <tr style=\"text-align: right;\">\n",
       "      <th></th>\n",
       "      <th>Площадь</th>\n",
       "      <th>Площадь жилая</th>\n",
       "      <th>Площадь кухни</th>\n",
       "    </tr>\n",
       "  </thead>\n",
       "  <tbody>\n",
       "    <tr>\n",
       "      <th>count</th>\n",
       "      <td>25350.00000</td>\n",
       "      <td>2124.000000</td>\n",
       "      <td>12419.000000</td>\n",
       "    </tr>\n",
       "    <tr>\n",
       "      <th>mean</th>\n",
       "      <td>59.45363</td>\n",
       "      <td>42.327265</td>\n",
       "      <td>11.434934</td>\n",
       "    </tr>\n",
       "    <tr>\n",
       "      <th>std</th>\n",
       "      <td>33.31645</td>\n",
       "      <td>28.134432</td>\n",
       "      <td>8.926715</td>\n",
       "    </tr>\n",
       "    <tr>\n",
       "      <th>min</th>\n",
       "      <td>2.00000</td>\n",
       "      <td>1.000000</td>\n",
       "      <td>1.000000</td>\n",
       "    </tr>\n",
       "    <tr>\n",
       "      <th>25%</th>\n",
       "      <td>40.10000</td>\n",
       "      <td>25.000000</td>\n",
       "      <td>8.000000</td>\n",
       "    </tr>\n",
       "    <tr>\n",
       "      <th>50%</th>\n",
       "      <td>51.90000</td>\n",
       "      <td>36.000000</td>\n",
       "      <td>10.000000</td>\n",
       "    </tr>\n",
       "    <tr>\n",
       "      <th>75%</th>\n",
       "      <td>68.00000</td>\n",
       "      <td>50.000000</td>\n",
       "      <td>13.000000</td>\n",
       "    </tr>\n",
       "    <tr>\n",
       "      <th>max</th>\n",
       "      <td>999.00000</td>\n",
       "      <td>353.000000</td>\n",
       "      <td>563.000000</td>\n",
       "    </tr>\n",
       "  </tbody>\n",
       "</table>\n",
       "</div>"
      ],
      "text/plain": [
       "           Площадь  Площадь жилая  Площадь кухни\n",
       "count  25350.00000    2124.000000   12419.000000\n",
       "mean      59.45363      42.327265      11.434934\n",
       "std       33.31645      28.134432       8.926715\n",
       "min        2.00000       1.000000       1.000000\n",
       "25%       40.10000      25.000000       8.000000\n",
       "50%       51.90000      36.000000      10.000000\n",
       "75%       68.00000      50.000000      13.000000\n",
       "max      999.00000     353.000000     563.000000"
      ]
     },
     "execution_count": 20,
     "metadata": {},
     "output_type": "execute_result"
    }
   ],
   "source": [
    "'Возбмем оттуда все ключи'\n",
    "total_area_pattern = r'(\\d+(\\.\\d+)?) м²'\n",
    "living_area_pattern = r'жилая — (\\d+(\\.\\d+)?) м²'\n",
    "kitchen_area_pattern = r'Площадь кухни — (\\d+(\\.\\d+)?) м²'\n",
    "\n",
    "total_area = df['Площадь, м²'].str.extract(total_area_pattern, expand=True)[0].astype(float)\n",
    "living_area = df['Площадь, м²'].str.extract(living_area_pattern, expand=True)[0].astype(float)\n",
    "kitchen_area = df['Площадь, м²'].str.extract(kitchen_area_pattern, expand=True)[0].astype(float)\n",
    "\n",
    "areas = pd.DataFrame({'Площадь':total_area, 'Площадь жилая':living_area, 'Площадь кухни':kitchen_area})\n",
    "areas.describe()"
   ]
  },
  {
   "cell_type": "code",
   "execution_count": 21,
   "metadata": {},
   "outputs": [],
   "source": [
    "# Обьединим в основным датасетом предварительно убрав столбец 'Площадь, м²'\n",
    "df = df.drop(columns='Площадь, м²')\n",
    "df = pd.concat([df,areas], axis=1)"
   ]
  },
  {
   "cell_type": "code",
   "execution_count": 22,
   "metadata": {},
   "outputs": [
    {
     "name": "stdout",
     "output_type": "stream",
     "text": [
      "                                            название    цена  \\\n",
      "0  3-комнатная квартира, 69 м², 9/10 этаж помесяч...  235000   \n",
      "1  4-комнатная квартира, 87 м², 6/9 этаж помесячн...  350000   \n",
      "2  2-комнатная квартира, 58 м², 9/10 этаж помесяч...  170000   \n",
      "3  3-комнатная квартира, 86 м², 1/5 этаж помесячн...  300000   \n",
      "4  2-комнатная квартира, 44.4 м², 4 этаж помесячн...  130000   \n",
      "\n",
      "                  Город   Тип дома  Год постройки Состояние  \\\n",
      "0  Семей, Абайская обл.  кирпичный         1992.0   хорошее   \n",
      "1  Семей, Абайская обл.        NaN            NaN       NaN   \n",
      "2  Семей, Абайская обл.        NaN            NaN       NaN   \n",
      "3  Семей, Абайская обл.        NaN            NaN       NaN   \n",
      "4  Семей, Абайская обл.        NaN            NaN       NaN   \n",
      "\n",
      "                        Состояние квартиры   Санузел Балкон Балкон остеклён  \\\n",
      "0  не новый, но аккуратный и чистый ремонт  разделен      1              да   \n",
      "1  не новый, но аккуратный и чистый ремонт  разделен      1             NaN   \n",
      "2  не новый, но аккуратный и чистый ремонт  совмещен      1             NaN   \n",
      "3  не новый, но аккуратный и чистый ремонт  совмещен      2             NaN   \n",
      "4                                      NaN  совмещен      1             NaN   \n",
      "\n",
      "   ... ×15 просмотров на месяц ×5 просмотров на неделю В горячих  \\\n",
      "0  ...                       1                       0         0   \n",
      "1  ...                       1                       0         0   \n",
      "2  ...                       0                       1         1   \n",
      "3  ...                       0                       0         0   \n",
      "4  ...                       0                       0         0   \n",
      "\n",
      "  ТОП объявление Срочно, торг Этаж_факт Этаж из Площадь Площадь жилая  \\\n",
      "0              1            0       9.0    10.0    69.0          58.0   \n",
      "1              1            0       6.0     9.0    87.0           NaN   \n",
      "2              1            0       9.0    10.0    58.0          54.0   \n",
      "3              1            0       1.0     5.0    86.0           NaN   \n",
      "4              1            0       4.0     NaN    44.4           NaN   \n",
      "\n",
      "  Площадь кухни  \n",
      "0          9.00  \n",
      "1          8.00  \n",
      "2          8.48  \n",
      "3           NaN  \n",
      "4           NaN  \n",
      "\n",
      "[5 rows x 36 columns]\n"
     ]
    }
   ],
   "source": [
    "# посмотрим не сломалось ли ничего\n",
    "print(df.head())"
   ]
  },
  {
   "cell_type": "markdown",
   "metadata": {},
   "source": [
    "Просмотры"
   ]
  },
  {
   "cell_type": "code",
   "execution_count": 23,
   "metadata": {},
   "outputs": [
    {
     "data": {
      "text/plain": [
       "float                        25347\n",
       "adverts.show.viewsNbTimes        3\n",
       "Name: просмотры, dtype: int64"
      ]
     },
     "execution_count": 23,
     "metadata": {},
     "output_type": "execute_result"
    }
   ],
   "source": [
    "# почему же он не float?\n",
    "def try_int(string):\n",
    "    try:\n",
    "        string = float(string)\n",
    "        return 'float'\n",
    "    except:\n",
    "        return string\n",
    "\n",
    "floats_mask = df['просмотры'].apply(try_int)\n",
    "floats_mask.value_counts()"
   ]
  },
  {
   "cell_type": "code",
   "execution_count": 24,
   "metadata": {},
   "outputs": [],
   "source": [
    "# видимо это те у которых не прогрузились просмотры при парсинге \n",
    "# даже через 100 секунд ожидание, их мало и они бесполезны, так что уберем их\n",
    "df = df[floats_mask == 'float']\n",
    "df['просмотры'] = df['просмотры'].astype(float)"
   ]
  },
  {
   "cell_type": "code",
   "execution_count": 25,
   "metadata": {},
   "outputs": [
    {
     "name": "stdout",
     "output_type": "stream",
     "text": [
      "<class 'pandas.core.frame.DataFrame'>\n",
      "Int64Index: 25347 entries, 0 to 25349\n",
      "Data columns (total 36 columns):\n",
      " #   Column                   Non-Null Count  Dtype  \n",
      "---  ------                   --------------  -----  \n",
      " 0   название                 25347 non-null  object \n",
      " 1   цена                     25347 non-null  int64  \n",
      " 2   Город                    25347 non-null  object \n",
      " 3   Тип дома                 1966 non-null   object \n",
      " 4   Год постройки            2701 non-null   float64\n",
      " 5   Состояние                1985 non-null   object \n",
      " 6   Состояние квартиры       17688 non-null  object \n",
      " 7   Санузел                  20765 non-null  object \n",
      " 8   Балкон                   15809 non-null  object \n",
      " 9   Балкон остеклён          1507 non-null   object \n",
      " 10  Дверь                    2094 non-null   object \n",
      " 11  Парковка                 1357 non-null   object \n",
      " 12  Квартира меблирована     22477 non-null  object \n",
      " 13  Пол                      2027 non-null   object \n",
      " 14  Потолки                  1712 non-null   object \n",
      " 15  Бывшее общежитие         25258 non-null  object \n",
      " 16  Мебель                   20948 non-null  object \n",
      " 17  Удобства                 21265 non-null  object \n",
      " 18  Ванная комната           20693 non-null  object \n",
      " 19  Окна                     18739 non-null  object \n",
      " 20  Лоджия                   10441 non-null  object \n",
      " 21  Кому подойдет квартира   19511 non-null  object \n",
      " 22  просмотры                25024 non-null  float64\n",
      " 23  Цвет                     1451 non-null   object \n",
      " 24  url                      25347 non-null  object \n",
      " 25  Владелец                 25347 non-null  object \n",
      " 26  ×15 просмотров на месяц  25347 non-null  int64  \n",
      " 27  ×5 просмотров на неделю  25347 non-null  int64  \n",
      " 28  В горячих                25347 non-null  int64  \n",
      " 29  ТОП объявление           25347 non-null  int64  \n",
      " 30  Срочно, торг             25347 non-null  int64  \n",
      " 31  Этаж_факт                24852 non-null  float64\n",
      " 32  Этаж из                  23510 non-null  float64\n",
      " 33  Площадь                  25347 non-null  float64\n",
      " 34  Площадь жилая            2124 non-null   float64\n",
      " 35  Площадь кухни            12417 non-null  float64\n",
      "dtypes: float64(7), int64(6), object(23)\n",
      "memory usage: 7.2+ MB\n"
     ]
    }
   ],
   "source": [
    "df.info()"
   ]
  },
  {
   "cell_type": "code",
   "execution_count": 26,
   "metadata": {},
   "outputs": [],
   "source": [
    "# обработку категориальных данных оставим на потом, пока посмотрим \n",
    "# финально, закрасим обьявления без цвета серым,\n",
    "df['Цвет'] = df['Цвет'].fillna('gray')"
   ]
  },
  {
   "cell_type": "code",
   "execution_count": 27,
   "metadata": {},
   "outputs": [
    {
     "data": {
      "text/html": [
       "<div>\n",
       "<style scoped>\n",
       "    .dataframe tbody tr th:only-of-type {\n",
       "        vertical-align: middle;\n",
       "    }\n",
       "\n",
       "    .dataframe tbody tr th {\n",
       "        vertical-align: top;\n",
       "    }\n",
       "\n",
       "    .dataframe thead th {\n",
       "        text-align: right;\n",
       "    }\n",
       "</style>\n",
       "<table border=\"1\" class=\"dataframe\">\n",
       "  <thead>\n",
       "    <tr style=\"text-align: right;\">\n",
       "      <th></th>\n",
       "      <th>цена</th>\n",
       "      <th>Год постройки</th>\n",
       "      <th>просмотры</th>\n",
       "      <th>×15 просмотров на месяц</th>\n",
       "      <th>×5 просмотров на неделю</th>\n",
       "      <th>В горячих</th>\n",
       "      <th>ТОП объявление</th>\n",
       "      <th>Срочно, торг</th>\n",
       "      <th>Этаж_факт</th>\n",
       "      <th>Этаж из</th>\n",
       "      <th>Площадь</th>\n",
       "      <th>Площадь жилая</th>\n",
       "      <th>Площадь кухни</th>\n",
       "    </tr>\n",
       "  </thead>\n",
       "  <tbody>\n",
       "    <tr>\n",
       "      <th>count</th>\n",
       "      <td>2.534700e+04</td>\n",
       "      <td>2701.000000</td>\n",
       "      <td>25024.000000</td>\n",
       "      <td>25347.000000</td>\n",
       "      <td>25347.000000</td>\n",
       "      <td>25347.000000</td>\n",
       "      <td>25347.000000</td>\n",
       "      <td>25347.000000</td>\n",
       "      <td>24852.000000</td>\n",
       "      <td>23510.000000</td>\n",
       "      <td>25347.000000</td>\n",
       "      <td>2124.000000</td>\n",
       "      <td>12417.000000</td>\n",
       "    </tr>\n",
       "    <tr>\n",
       "      <th>mean</th>\n",
       "      <td>2.639933e+05</td>\n",
       "      <td>2002.715661</td>\n",
       "      <td>1587.442176</td>\n",
       "      <td>0.035349</td>\n",
       "      <td>0.022133</td>\n",
       "      <td>0.075433</td>\n",
       "      <td>0.104154</td>\n",
       "      <td>0.062177</td>\n",
       "      <td>5.478110</td>\n",
       "      <td>9.238622</td>\n",
       "      <td>59.451593</td>\n",
       "      <td>42.327265</td>\n",
       "      <td>11.434359</td>\n",
       "    </tr>\n",
       "    <tr>\n",
       "      <th>std</th>\n",
       "      <td>2.556978e+05</td>\n",
       "      <td>17.753994</td>\n",
       "      <td>5160.481988</td>\n",
       "      <td>0.184665</td>\n",
       "      <td>0.147118</td>\n",
       "      <td>0.264094</td>\n",
       "      <td>0.305467</td>\n",
       "      <td>0.241481</td>\n",
       "      <td>3.970978</td>\n",
       "      <td>5.724447</td>\n",
       "      <td>33.317374</td>\n",
       "      <td>28.134432</td>\n",
       "      <td>8.926994</td>\n",
       "    </tr>\n",
       "    <tr>\n",
       "      <th>min</th>\n",
       "      <td>1.000000e+04</td>\n",
       "      <td>1933.000000</td>\n",
       "      <td>0.000000</td>\n",
       "      <td>0.000000</td>\n",
       "      <td>0.000000</td>\n",
       "      <td>0.000000</td>\n",
       "      <td>0.000000</td>\n",
       "      <td>0.000000</td>\n",
       "      <td>1.000000</td>\n",
       "      <td>1.000000</td>\n",
       "      <td>2.000000</td>\n",
       "      <td>1.000000</td>\n",
       "      <td>1.000000</td>\n",
       "    </tr>\n",
       "    <tr>\n",
       "      <th>25%</th>\n",
       "      <td>1.500000e+05</td>\n",
       "      <td>1989.000000</td>\n",
       "      <td>174.000000</td>\n",
       "      <td>0.000000</td>\n",
       "      <td>0.000000</td>\n",
       "      <td>0.000000</td>\n",
       "      <td>0.000000</td>\n",
       "      <td>0.000000</td>\n",
       "      <td>3.000000</td>\n",
       "      <td>5.000000</td>\n",
       "      <td>40.100000</td>\n",
       "      <td>25.000000</td>\n",
       "      <td>8.000000</td>\n",
       "    </tr>\n",
       "    <tr>\n",
       "      <th>50%</th>\n",
       "      <td>2.000000e+05</td>\n",
       "      <td>2010.000000</td>\n",
       "      <td>571.000000</td>\n",
       "      <td>0.000000</td>\n",
       "      <td>0.000000</td>\n",
       "      <td>0.000000</td>\n",
       "      <td>0.000000</td>\n",
       "      <td>0.000000</td>\n",
       "      <td>4.000000</td>\n",
       "      <td>9.000000</td>\n",
       "      <td>51.900000</td>\n",
       "      <td>36.000000</td>\n",
       "      <td>10.000000</td>\n",
       "    </tr>\n",
       "    <tr>\n",
       "      <th>75%</th>\n",
       "      <td>3.000000e+05</td>\n",
       "      <td>2018.000000</td>\n",
       "      <td>1585.000000</td>\n",
       "      <td>0.000000</td>\n",
       "      <td>0.000000</td>\n",
       "      <td>0.000000</td>\n",
       "      <td>0.000000</td>\n",
       "      <td>0.000000</td>\n",
       "      <td>7.000000</td>\n",
       "      <td>12.000000</td>\n",
       "      <td>68.000000</td>\n",
       "      <td>50.000000</td>\n",
       "      <td>13.000000</td>\n",
       "    </tr>\n",
       "    <tr>\n",
       "      <th>max</th>\n",
       "      <td>1.400000e+07</td>\n",
       "      <td>2025.000000</td>\n",
       "      <td>274140.000000</td>\n",
       "      <td>1.000000</td>\n",
       "      <td>1.000000</td>\n",
       "      <td>1.000000</td>\n",
       "      <td>1.000000</td>\n",
       "      <td>1.000000</td>\n",
       "      <td>37.000000</td>\n",
       "      <td>403.000000</td>\n",
       "      <td>999.000000</td>\n",
       "      <td>353.000000</td>\n",
       "      <td>563.000000</td>\n",
       "    </tr>\n",
       "  </tbody>\n",
       "</table>\n",
       "</div>"
      ],
      "text/plain": [
       "               цена  Год постройки      просмотры  ×15 просмотров на месяц  \\\n",
       "count  2.534700e+04    2701.000000   25024.000000             25347.000000   \n",
       "mean   2.639933e+05    2002.715661    1587.442176                 0.035349   \n",
       "std    2.556978e+05      17.753994    5160.481988                 0.184665   \n",
       "min    1.000000e+04    1933.000000       0.000000                 0.000000   \n",
       "25%    1.500000e+05    1989.000000     174.000000                 0.000000   \n",
       "50%    2.000000e+05    2010.000000     571.000000                 0.000000   \n",
       "75%    3.000000e+05    2018.000000    1585.000000                 0.000000   \n",
       "max    1.400000e+07    2025.000000  274140.000000                 1.000000   \n",
       "\n",
       "       ×5 просмотров на неделю     В горячих  ТОП объявление  Срочно, торг  \\\n",
       "count             25347.000000  25347.000000    25347.000000  25347.000000   \n",
       "mean                  0.022133      0.075433        0.104154      0.062177   \n",
       "std                   0.147118      0.264094        0.305467      0.241481   \n",
       "min                   0.000000      0.000000        0.000000      0.000000   \n",
       "25%                   0.000000      0.000000        0.000000      0.000000   \n",
       "50%                   0.000000      0.000000        0.000000      0.000000   \n",
       "75%                   0.000000      0.000000        0.000000      0.000000   \n",
       "max                   1.000000      1.000000        1.000000      1.000000   \n",
       "\n",
       "          Этаж_факт       Этаж из       Площадь  Площадь жилая  Площадь кухни  \n",
       "count  24852.000000  23510.000000  25347.000000    2124.000000   12417.000000  \n",
       "mean       5.478110      9.238622     59.451593      42.327265      11.434359  \n",
       "std        3.970978      5.724447     33.317374      28.134432       8.926994  \n",
       "min        1.000000      1.000000      2.000000       1.000000       1.000000  \n",
       "25%        3.000000      5.000000     40.100000      25.000000       8.000000  \n",
       "50%        4.000000      9.000000     51.900000      36.000000      10.000000  \n",
       "75%        7.000000     12.000000     68.000000      50.000000      13.000000  \n",
       "max       37.000000    403.000000    999.000000     353.000000     563.000000  "
      ]
     },
     "execution_count": 27,
     "metadata": {},
     "output_type": "execute_result"
    }
   ],
   "source": [
    "# посмотрим на датасет перед сохранением\n",
    "df.describe()"
   ]
  },
  {
   "cell_type": "code",
   "execution_count": 28,
   "metadata": {},
   "outputs": [
    {
     "name": "stdout",
     "output_type": "stream",
     "text": [
      "                                                 название  \\\n",
      "count                                               25347   \n",
      "unique                                              24803   \n",
      "top     3-комнатная квартира, 70 м², 5/5 этаж помесячн...   \n",
      "freq                                                    7   \n",
      "\n",
      "                        Город   Тип дома Состояние  \\\n",
      "count                   25347       1966      1985   \n",
      "unique                    175          4         4   \n",
      "top     Астана, Есильский р-н  кирпичный   хорошее   \n",
      "freq                     3405        795      1819   \n",
      "\n",
      "                 Состояние квартиры   Санузел Балкон Балкон остеклён  \\\n",
      "count                         17688     20765  15809            1507   \n",
      "unique                            3         8      7               2   \n",
      "top     свежий ремонт, новая мебель  совмещен      1              да   \n",
      "freq                          10027     13018  10310            1501   \n",
      "\n",
      "                Дверь Парковка  ... Бывшее общежитие  \\\n",
      "count            2094     1357  ...            25258   \n",
      "unique              3        3  ...                2   \n",
      "top     металлическая  паркинг  ...              нет   \n",
      "freq             1672      686  ...            24976   \n",
      "\n",
      "                                                   Мебель  \\\n",
      "count                                               20948   \n",
      "unique                                               1448   \n",
      "top     кровать, обеденный стол, шкаф для одежды, кухо...   \n",
      "freq                                                 4024   \n",
      "\n",
      "                              Удобства Ванная комната     Окна Лоджия  \\\n",
      "count                            21265          20693    18739  10441   \n",
      "unique                            9029              4        4      3   \n",
      "top     стиральная машина, холодильник          ванна  во двор      1   \n",
      "freq                               754          15901     6504   5973   \n",
      "\n",
      "                           Кому подойдет квартира   Цвет  \\\n",
      "count                                       19511  25347   \n",
      "unique                                        223      3   \n",
      "top     семейной паре, некурящим, одному человеку   gray   \n",
      "freq                                         3046  23896   \n",
      "\n",
      "                                       url             Владелец  \n",
      "count                                25347                25347  \n",
      "unique                               25347                    5  \n",
      "top     https://krisha.kz/a/show/674852270  Хозяин недвижимости  \n",
      "freq                                     1                18484  \n",
      "\n",
      "[4 rows x 23 columns]\n"
     ]
    }
   ],
   "source": [
    "print(df.describe(exclude=[np.number]))"
   ]
  },
  {
   "cell_type": "code",
   "execution_count": 29,
   "metadata": {},
   "outputs": [],
   "source": [
    "df.to_csv('krisha_cleaned_1.csv', index=False)"
   ]
  }
 ],
 "metadata": {
  "kernelspec": {
   "display_name": "base",
   "language": "python",
   "name": "python3"
  },
  "language_info": {
   "codemirror_mode": {
    "name": "ipython",
    "version": 3
   },
   "file_extension": ".py",
   "mimetype": "text/x-python",
   "name": "python",
   "nbconvert_exporter": "python",
   "pygments_lexer": "ipython3",
   "version": "3.10.8"
  }
 },
 "nbformat": 4,
 "nbformat_minor": 2
}
